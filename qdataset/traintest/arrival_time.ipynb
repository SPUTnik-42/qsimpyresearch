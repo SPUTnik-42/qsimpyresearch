{
 "cells": [
  {
   "cell_type": "code",
   "execution_count": 4,
   "metadata": {},
   "outputs": [
    {
     "data": {
      "text/plain": [
       "'/home/ubuntu/qsimpy/qdataset/traintest/synds_800_sub_60_trainset_timed.csv'"
      ]
     },
     "execution_count": 4,
     "metadata": {},
     "output_type": "execute_result"
    }
   ],
   "source": [
    "import pandas as pd\n",
    "import numpy as np\n",
    "\n",
    "# Step 1: Load the dataset\n",
    "file_path = '/home/ubuntu/qsimpy/qdataset/traintest/synds_800_sub_60_trainset.csv'\n",
    "df = pd.read_csv(file_path)\n",
    "\n",
    "# Ensure 'subset' is of integer type\n",
    "df['subset'] = df['subset'].astype(int)\n",
    "\n",
    "# Initialize a random number generator\n",
    "rng = np.random.default_rng(seed=42)  # Seed for reproducibility\n",
    "\n",
    "# Function to generate arrival times\n",
    "def generate_arrival_times(subset_id, n_qtasks=60):\n",
    "    arrival_times = rng.uniform(low=0.1 + subset_id * 60, high=59.9 + subset_id * 60, size=n_qtasks)\n",
    "    arrival_times.sort()\n",
    "    return arrival_times\n",
    "\n",
    "# Generate and append arrival times\n",
    "# This step needs adjustment to correctly apply generated times to each row in the subset\n",
    "for subset_id in df['subset'].unique():\n",
    "    indices = df[df['subset'] == subset_id].index\n",
    "    df.loc[indices, 'arrival_time'] = generate_arrival_times(subset_id)\n",
    "\n",
    "# Step 4: Save the updated dataset to a new CSV file\n",
    "new_file_path = '/home/ubuntu/qsimpy/qdataset/traintest/synds_800_sub_60_trainset_timed.csv'\n",
    "df.to_csv(new_file_path, index=False)\n",
    "\n",
    "new_file_path"
   ]
  },
  {
   "cell_type": "code",
   "execution_count": null,
   "metadata": {},
   "outputs": [],
   "source": []
  }
 ],
 "metadata": {
  "kernelspec": {
   "display_name": "ray",
   "language": "python",
   "name": "python3"
  },
  "language_info": {
   "codemirror_mode": {
    "name": "ipython",
    "version": 3
   },
   "file_extension": ".py",
   "mimetype": "text/x-python",
   "name": "python",
   "nbconvert_exporter": "python",
   "pygments_lexer": "ipython3",
   "version": "3.10.13"
  }
 },
 "nbformat": 4,
 "nbformat_minor": 2
}
